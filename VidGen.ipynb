{
 "cells": [
  {
   "cell_type": "markdown",
   "metadata": {},
   "source": [
    "## Get Your API Keys\n",
    "\n",
    "- [Get your Hugging Face API token](https://huggingface.co/settings/tokens)\n",
    "- [Get your Gemini API key](https://aistudio.google.com/app/apikey)\n"
   ]
  },
  {
   "cell_type": "code",
   "metadata": {},
   "source": [
    "# Setup Gemini and Hugging Face API keys\n",
    "from getpass import getpass\n",
    "from huggingface_hub import login\n",
    "\n",
    "GEMINI_API_KEY = getpass('Enter your Gemini API key: ')\n",
    "HF_TOKEN = getpass('Enter your Hugging Face API token: ')\n",
    "login(HF_TOKEN)\n"
   ],
   "execution_count": null,
   "outputs": []
  },
  {
   "cell_type": "markdown",
   "metadata": {},
   "source": [
    "# VidGen: Video Generator from Scene Script\n",
    "This notebook sets up and runs the VidGen Gradio app in Colab.\n",
    "\n",
    "## Features\n",
    "- Enter a general scene script and Gemini API key\n",
    "- Generates a detailed script using Gemini\n",
    "- Splits the generated script into commands for video, TTS, audio, and image models\n",
    "- Assembles the generated media into a final video\n",
    "\n",
    "## Instructions\n",
    "1. Run each cell in order.\n",
    "2. Enter your Gemini API key and script in the Gradio UI."
   ]
  },
  {
   "cell_type": "code",
   "metadata": {},
   "source": [
    "# Install dependencies\n",
    "!pip install gradio requests ffmpeg-python bark diffusers transformers accelerate safetensors scipy torch\n",
    "# Install ffmpeg system binary\n",
    "!apt-get -y update && apt-get -y install ffmpeg"
   ],
   "execution_count": null,
   "outputs": []
  },
  {
   "cell_type": "code",
   "metadata": {},
   "source": [
    "# Download and setup open-source models\n",
    "# Bark TTS\n",
    "!pip install bark\n",
    "# Stable Diffusion (image)\n",
    "!pip install diffusers transformers accelerate safetensors\n",
    "# AnimateDiff (video, optional, for advanced users)\n",
    "!pip install animatediff\n",
    "print('Models installed.')"
   ],
   "execution_count": null,
   "outputs": []
  },
  {
   "cell_type": "code",
   "metadata": {},
   "source": [
    "# Download project files from GitHub\n",
    "!git clone https://github.com/AhmedWGabr/VidGen.git\n",
    "%cd VidGen\n"
   ],
   "execution_count": null,
   "outputs": []
  },
  {
   "cell_type": "code",
   "metadata": {},
   "source": [
    "# Run the Gradio app\n",
    "import app\n",
    "app.demo.launch(share=True)"
   ],
   "execution_count": null,
   "outputs": []
  }
 ],
 "metadata": {
  "kernelspec": {
   "display_name": "Python 3",
   "language": "python",
   "name": "python3"
  },
  "language_info": {
   "name": "python",
   "version": ""
  }
 },
 "nbformat": 4,
 "nbformat_minor": 2
}
